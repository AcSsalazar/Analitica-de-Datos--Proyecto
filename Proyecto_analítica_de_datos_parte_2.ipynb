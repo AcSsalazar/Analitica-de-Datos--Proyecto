{
  "nbformat": 4,
  "nbformat_minor": 0,
  "metadata": {
    "colab": {
      "provenance": []
    },
    "kernelspec": {
      "name": "python3",
      "display_name": "Python 3"
    },
    "language_info": {
      "name": "python"
    },
    "accelerator": "GPU",
    "gpuClass": "standard"
  },
  "cells": [
    {
      "cell_type": "code",
      "execution_count": 1,
      "metadata": {
        "id": "VplCvMJghOml"
      },
      "outputs": [],
      "source": [
        "import json\n",
        "import numpy as np\n",
        "from sklearn.model_selection import train_test_split\n",
        "import tensorflow.keras as keras\n",
        "\n",
        "import matplotlib.pyplot as plt\n",
        "import random\n",
        "\n",
        "import librosa\n",
        "import math"
      ]
    },
    {
      "cell_type": "code",
      "source": [
        "dataload = \"/content/drive/My Drive/PAD/Data01/data_10.json\""
      ],
      "metadata": {
        "id": "FBHIGM_Dhftg"
      },
      "execution_count": 2,
      "outputs": []
    },
    {
      "cell_type": "code",
      "source": [
        "# Funcion para cargar los datos del archivo json\n",
        "def load_data(dataload):\n",
        "\n",
        "    with open(dataload, \"r\") as f: #\n",
        "        data = json.load(f)\n",
        "\n",
        "    # convert lists to numpy arrays\n",
        "    X = np.array(data[\"mfcc\"])\n",
        "    y = np.array(data[\"labels\"])\n",
        "\n",
        "    print(\"Data succesfully loaded!\")\n",
        "\n",
        "    return  X, y\n",
        "\n",
        "X,y = load_data(dataload)\n",
        "X.shape\n"
      ],
      "metadata": {
        "colab": {
          "base_uri": "https://localhost:8080/",
          "height": 0
        },
        "id": "htnAtdZXIS0s",
        "outputId": "f9f6a719-7192-4435-c2d0-e0fde6f01a9d"
      },
      "execution_count": 3,
      "outputs": [
        {
          "output_type": "stream",
          "name": "stdout",
          "text": [
            "Data succesfully loaded!\n"
          ]
        },
        {
          "output_type": "execute_result",
          "data": {
            "text/plain": [
              "(9996, 130, 13)"
            ]
          },
          "metadata": {},
          "execution_count": 3
        }
      ]
    },
    {
      "cell_type": "code",
      "source": [
        "# Configuramos la division test y entrenamiento. con 30% de los datos para testeo. \n",
        "X_train, X_test, y_test, y_train = train_test_split(X,y, test_size=0.3)"
      ],
      "metadata": {
        "id": "p71dIMJdZYmr"
      },
      "execution_count": 4,
      "outputs": []
    },
    {
      "cell_type": "code",
      "source": [
        "# create train, validation and test split\n",
        "X_train, X_test, y_train, y_test = train_test_split(X, y, test_size=0.25)\n",
        "X_train, X_validation, y_train, y_validation = train_test_split(X_train, y_train, test_size=0.2)\n",
        "\n",
        "# add an axis to input sets\n",
        "X_train = X_train[..., np.newaxis]\n",
        "X_validation = X_validation[..., np.newaxis]\n",
        "X_test = X_test[..., np.newaxis]\n",
        "X_train.shape\n",
        "\n",
        "input_shape = (X_train.shape[1], X_train.shape[2], 1)\n",
        "\n",
        "# build the CNN - model\n",
        "model_cnn = keras.Sequential()\n",
        "\n",
        "# 1st conv layer\n",
        "model_cnn.add(keras.layers.Conv2D(32, (3, 3), activation='relu', input_shape=input_shape))\n",
        "model_cnn.add(keras.layers.MaxPooling2D((3, 3), strides=(2, 2), padding='same'))\n",
        "model_cnn.add(keras.layers.BatchNormalization())\n",
        "\n",
        "# 2nd conv layer\n",
        "model_cnn.add(keras.layers.Conv2D(32, (3, 3), activation='relu'))\n",
        "model_cnn.add(keras.layers.MaxPooling2D((3, 3), strides=(2, 2), padding='same'))\n",
        "model_cnn.add(keras.layers.BatchNormalization())\n",
        "\n",
        "# 3rd conv layer\n",
        "model_cnn.add(keras.layers.Conv2D(32, (2, 2), activation='relu'))\n",
        "model_cnn.add(keras.layers.MaxPooling2D((2, 2), strides=(2, 2), padding='same'))\n",
        "model_cnn.add(keras.layers.BatchNormalization())\n",
        "\n",
        "#1 flatten output and feed it into dense layer\n",
        "model_cnn.add(keras.layers.Flatten())\n",
        "model_cnn.add(keras.layers.Dense(128, activation='relu'))\n",
        "model_cnn.add(keras.layers.Dropout(0.3))\n",
        "#2 flatten output and feed it into dense layer\n",
        "model_cnn.add(keras.layers.Flatten())\n",
        "model_cnn.add(keras.layers.Dense(64, activation='relu'))\n",
        "model_cnn.add(keras.layers.Dropout(0.3))\n",
        "\n",
        "# output layer\n",
        "model_cnn.add(keras.layers.Dense(10, activation='softmax'))"
      ],
      "metadata": {
        "id": "ZCbTmFvRbxGH"
      },
      "execution_count": 5,
      "outputs": []
    },
    {
      "cell_type": "code",
      "source": [
        "# compile model\n",
        "optimiser = keras.optimizers.Adam(learning_rate=0.0001)\n",
        "model_cnn.compile(optimizer=optimiser,\n",
        "              loss='sparse_categorical_crossentropy',\n",
        "             metrics=['accuracy'])\n"
      ],
      "metadata": {
        "id": "0QuwNuU7kAln"
      },
      "execution_count": 6,
      "outputs": []
    },
    {
      "cell_type": "code",
      "source": [
        "model_cnn.summary()"
      ],
      "metadata": {
        "colab": {
          "base_uri": "https://localhost:8080/",
          "height": 0
        },
        "id": "aq6HuPIoocDm",
        "outputId": "22926a38-b7c2-4c24-ebfa-2351660dddad"
      },
      "execution_count": 7,
      "outputs": [
        {
          "output_type": "stream",
          "name": "stdout",
          "text": [
            "Model: \"sequential\"\n",
            "_________________________________________________________________\n",
            " Layer (type)                Output Shape              Param #   \n",
            "=================================================================\n",
            " conv2d (Conv2D)             (None, 128, 11, 32)       320       \n",
            "                                                                 \n",
            " max_pooling2d (MaxPooling2D  (None, 64, 6, 32)        0         \n",
            " )                                                               \n",
            "                                                                 \n",
            " batch_normalization (BatchN  (None, 64, 6, 32)        128       \n",
            " ormalization)                                                   \n",
            "                                                                 \n",
            " conv2d_1 (Conv2D)           (None, 62, 4, 32)         9248      \n",
            "                                                                 \n",
            " max_pooling2d_1 (MaxPooling  (None, 31, 2, 32)        0         \n",
            " 2D)                                                             \n",
            "                                                                 \n",
            " batch_normalization_1 (Batc  (None, 31, 2, 32)        128       \n",
            " hNormalization)                                                 \n",
            "                                                                 \n",
            " conv2d_2 (Conv2D)           (None, 30, 1, 32)         4128      \n",
            "                                                                 \n",
            " max_pooling2d_2 (MaxPooling  (None, 15, 1, 32)        0         \n",
            " 2D)                                                             \n",
            "                                                                 \n",
            " batch_normalization_2 (Batc  (None, 15, 1, 32)        128       \n",
            " hNormalization)                                                 \n",
            "                                                                 \n",
            " flatten (Flatten)           (None, 480)               0         \n",
            "                                                                 \n",
            " dense (Dense)               (None, 128)               61568     \n",
            "                                                                 \n",
            " dropout (Dropout)           (None, 128)               0         \n",
            "                                                                 \n",
            " flatten_1 (Flatten)         (None, 128)               0         \n",
            "                                                                 \n",
            " dense_1 (Dense)             (None, 64)                8256      \n",
            "                                                                 \n",
            " dropout_1 (Dropout)         (None, 64)                0         \n",
            "                                                                 \n",
            " dense_2 (Dense)             (None, 10)                650       \n",
            "                                                                 \n",
            "=================================================================\n",
            "Total params: 84,554\n",
            "Trainable params: 84,362\n",
            "Non-trainable params: 192\n",
            "_________________________________________________________________\n"
          ]
        }
      ]
    },
    {
      "cell_type": "markdown",
      "source": [
        "El umero de muestras para el entrenamiento =30.\n",
        "El modelo se actualiza cada vez que se procesa un lote, lo que significa que se puede actualizar varias veces durante una época. \n",
        "Si batch_sizese establece igual a la longitud de x, el modelo se actualizará una vez por época.\n"
      ],
      "metadata": {
        "id": "yGtSpbGTNQFV"
      }
    },
    {
      "cell_type": "code",
      "source": [
        "X_train.shape"
      ],
      "metadata": {
        "colab": {
          "base_uri": "https://localhost:8080/",
          "height": 0
        },
        "id": "cT0KfIcGQHxD",
        "outputId": "20fc5030-b69c-45a1-f89f-e12ba04288b3"
      },
      "execution_count": 8,
      "outputs": [
        {
          "output_type": "execute_result",
          "data": {
            "text/plain": [
              "(5997, 130, 13, 1)"
            ]
          },
          "metadata": {},
          "execution_count": 8
        }
      ]
    },
    {
      "cell_type": "code",
      "source": [
        "# train model\n",
        "history = model_cnn.fit(X_train, y_train, validation_data=(X_validation, y_validation), batch_size=40, epochs=100)"
      ],
      "metadata": {
        "id": "IFzbrl54odgi",
        "colab": {
          "base_uri": "https://localhost:8080/",
          "height": 0
        },
        "outputId": "ea88c755-3936-4318-b9a6-fa72ac0c8bb4"
      },
      "execution_count": 9,
      "outputs": [
        {
          "output_type": "stream",
          "name": "stdout",
          "text": [
            "Epoch 1/100\n",
            "150/150 [==============================] - 4s 9ms/step - loss: 2.3806 - accuracy: 0.2103 - val_loss: 1.8985 - val_accuracy: 0.3533\n",
            "Epoch 2/100\n",
            "150/150 [==============================] - 1s 6ms/step - loss: 1.9271 - accuracy: 0.3243 - val_loss: 1.6121 - val_accuracy: 0.4440\n",
            "Epoch 3/100\n",
            "150/150 [==============================] - 1s 5ms/step - loss: 1.7547 - accuracy: 0.3759 - val_loss: 1.4723 - val_accuracy: 0.4807\n",
            "Epoch 4/100\n",
            "150/150 [==============================] - 1s 6ms/step - loss: 1.6351 - accuracy: 0.4072 - val_loss: 1.3849 - val_accuracy: 0.5100\n",
            "Epoch 5/100\n",
            "150/150 [==============================] - 1s 6ms/step - loss: 1.5488 - accuracy: 0.4466 - val_loss: 1.3171 - val_accuracy: 0.5180\n",
            "Epoch 6/100\n",
            "150/150 [==============================] - 1s 6ms/step - loss: 1.4804 - accuracy: 0.4692 - val_loss: 1.2751 - val_accuracy: 0.5353\n",
            "Epoch 7/100\n",
            "150/150 [==============================] - 1s 6ms/step - loss: 1.4209 - accuracy: 0.4886 - val_loss: 1.2351 - val_accuracy: 0.5533\n",
            "Epoch 8/100\n",
            "150/150 [==============================] - 1s 6ms/step - loss: 1.3932 - accuracy: 0.5059 - val_loss: 1.1820 - val_accuracy: 0.5733\n",
            "Epoch 9/100\n",
            "150/150 [==============================] - 1s 7ms/step - loss: 1.3485 - accuracy: 0.5129 - val_loss: 1.1563 - val_accuracy: 0.5747\n",
            "Epoch 10/100\n",
            "150/150 [==============================] - 1s 6ms/step - loss: 1.2944 - accuracy: 0.5404 - val_loss: 1.1260 - val_accuracy: 0.5933\n",
            "Epoch 11/100\n",
            "150/150 [==============================] - 1s 6ms/step - loss: 1.2805 - accuracy: 0.5449 - val_loss: 1.1034 - val_accuracy: 0.6027\n",
            "Epoch 12/100\n",
            "150/150 [==============================] - 1s 6ms/step - loss: 1.2308 - accuracy: 0.5628 - val_loss: 1.0778 - val_accuracy: 0.6207\n",
            "Epoch 13/100\n",
            "150/150 [==============================] - 1s 6ms/step - loss: 1.2047 - accuracy: 0.5654 - val_loss: 1.0612 - val_accuracy: 0.6113\n",
            "Epoch 14/100\n",
            "150/150 [==============================] - 1s 6ms/step - loss: 1.1847 - accuracy: 0.5803 - val_loss: 1.0417 - val_accuracy: 0.6260\n",
            "Epoch 15/100\n",
            "150/150 [==============================] - 1s 6ms/step - loss: 1.1512 - accuracy: 0.5975 - val_loss: 1.0443 - val_accuracy: 0.6233\n",
            "Epoch 16/100\n",
            "150/150 [==============================] - 1s 6ms/step - loss: 1.1131 - accuracy: 0.6003 - val_loss: 1.0005 - val_accuracy: 0.6427\n",
            "Epoch 17/100\n",
            "150/150 [==============================] - 1s 6ms/step - loss: 1.1127 - accuracy: 0.6046 - val_loss: 0.9839 - val_accuracy: 0.6567\n",
            "Epoch 18/100\n",
            "150/150 [==============================] - 1s 6ms/step - loss: 1.0770 - accuracy: 0.6168 - val_loss: 0.9560 - val_accuracy: 0.6680\n",
            "Epoch 19/100\n",
            "150/150 [==============================] - 1s 6ms/step - loss: 1.0431 - accuracy: 0.6301 - val_loss: 0.9412 - val_accuracy: 0.6693\n",
            "Epoch 20/100\n",
            "150/150 [==============================] - 1s 6ms/step - loss: 1.0367 - accuracy: 0.6360 - val_loss: 0.9193 - val_accuracy: 0.6773\n",
            "Epoch 21/100\n",
            "150/150 [==============================] - 1s 6ms/step - loss: 0.9960 - accuracy: 0.6433 - val_loss: 0.9377 - val_accuracy: 0.6640\n",
            "Epoch 22/100\n",
            "150/150 [==============================] - 1s 6ms/step - loss: 0.9730 - accuracy: 0.6548 - val_loss: 0.8847 - val_accuracy: 0.6893\n",
            "Epoch 23/100\n",
            "150/150 [==============================] - 1s 6ms/step - loss: 0.9669 - accuracy: 0.6603 - val_loss: 0.8908 - val_accuracy: 0.6907\n",
            "Epoch 24/100\n",
            "150/150 [==============================] - 1s 6ms/step - loss: 0.9466 - accuracy: 0.6642 - val_loss: 0.8573 - val_accuracy: 0.6993\n",
            "Epoch 25/100\n",
            "150/150 [==============================] - 1s 6ms/step - loss: 0.9469 - accuracy: 0.6710 - val_loss: 0.8516 - val_accuracy: 0.7053\n",
            "Epoch 26/100\n",
            "150/150 [==============================] - 1s 6ms/step - loss: 0.8923 - accuracy: 0.6872 - val_loss: 0.8399 - val_accuracy: 0.7140\n",
            "Epoch 27/100\n",
            "150/150 [==============================] - 1s 6ms/step - loss: 0.8833 - accuracy: 0.6930 - val_loss: 0.8199 - val_accuracy: 0.7147\n",
            "Epoch 28/100\n",
            "150/150 [==============================] - 1s 6ms/step - loss: 0.8666 - accuracy: 0.7019 - val_loss: 0.8251 - val_accuracy: 0.7067\n",
            "Epoch 29/100\n",
            "150/150 [==============================] - 1s 6ms/step - loss: 0.8532 - accuracy: 0.7069 - val_loss: 0.8045 - val_accuracy: 0.7213\n",
            "Epoch 30/100\n",
            "150/150 [==============================] - 1s 6ms/step - loss: 0.8444 - accuracy: 0.7082 - val_loss: 0.8349 - val_accuracy: 0.7093\n",
            "Epoch 31/100\n",
            "150/150 [==============================] - 1s 6ms/step - loss: 0.8058 - accuracy: 0.7239 - val_loss: 0.7979 - val_accuracy: 0.7213\n",
            "Epoch 32/100\n",
            "150/150 [==============================] - 1s 6ms/step - loss: 0.7906 - accuracy: 0.7260 - val_loss: 0.8243 - val_accuracy: 0.7160\n",
            "Epoch 33/100\n",
            "150/150 [==============================] - 1s 6ms/step - loss: 0.7666 - accuracy: 0.7344 - val_loss: 0.8102 - val_accuracy: 0.7133\n",
            "Epoch 34/100\n",
            "150/150 [==============================] - 1s 6ms/step - loss: 0.7764 - accuracy: 0.7302 - val_loss: 0.8249 - val_accuracy: 0.7093\n",
            "Epoch 35/100\n",
            "150/150 [==============================] - 1s 6ms/step - loss: 0.7537 - accuracy: 0.7412 - val_loss: 0.7683 - val_accuracy: 0.7367\n",
            "Epoch 36/100\n",
            "150/150 [==============================] - 1s 6ms/step - loss: 0.7502 - accuracy: 0.7439 - val_loss: 0.7897 - val_accuracy: 0.7147\n",
            "Epoch 37/100\n",
            "150/150 [==============================] - 1s 6ms/step - loss: 0.7453 - accuracy: 0.7394 - val_loss: 0.7759 - val_accuracy: 0.7373\n",
            "Epoch 38/100\n",
            "150/150 [==============================] - 1s 6ms/step - loss: 0.7259 - accuracy: 0.7435 - val_loss: 0.7646 - val_accuracy: 0.7413\n",
            "Epoch 39/100\n",
            "150/150 [==============================] - 1s 6ms/step - loss: 0.7025 - accuracy: 0.7570 - val_loss: 0.7709 - val_accuracy: 0.7280\n",
            "Epoch 40/100\n",
            "150/150 [==============================] - 1s 6ms/step - loss: 0.6837 - accuracy: 0.7689 - val_loss: 0.7561 - val_accuracy: 0.7400\n",
            "Epoch 41/100\n",
            "150/150 [==============================] - 1s 6ms/step - loss: 0.6957 - accuracy: 0.7564 - val_loss: 0.7345 - val_accuracy: 0.7540\n",
            "Epoch 42/100\n",
            "150/150 [==============================] - 1s 6ms/step - loss: 0.6598 - accuracy: 0.7681 - val_loss: 0.7475 - val_accuracy: 0.7380\n",
            "Epoch 43/100\n",
            "150/150 [==============================] - 1s 6ms/step - loss: 0.6659 - accuracy: 0.7741 - val_loss: 0.7468 - val_accuracy: 0.7373\n",
            "Epoch 44/100\n",
            "150/150 [==============================] - 1s 6ms/step - loss: 0.6280 - accuracy: 0.7782 - val_loss: 0.7381 - val_accuracy: 0.7367\n",
            "Epoch 45/100\n",
            "150/150 [==============================] - 1s 6ms/step - loss: 0.6295 - accuracy: 0.7844 - val_loss: 0.7398 - val_accuracy: 0.7500\n",
            "Epoch 46/100\n",
            "150/150 [==============================] - 1s 6ms/step - loss: 0.5985 - accuracy: 0.7981 - val_loss: 0.7315 - val_accuracy: 0.7433\n",
            "Epoch 47/100\n",
            "150/150 [==============================] - 1s 6ms/step - loss: 0.5989 - accuracy: 0.7912 - val_loss: 0.7461 - val_accuracy: 0.7460\n",
            "Epoch 48/100\n",
            "150/150 [==============================] - 1s 6ms/step - loss: 0.5880 - accuracy: 0.8011 - val_loss: 0.7258 - val_accuracy: 0.7567\n",
            "Epoch 49/100\n",
            "150/150 [==============================] - 1s 6ms/step - loss: 0.5826 - accuracy: 0.7967 - val_loss: 0.7711 - val_accuracy: 0.7453\n",
            "Epoch 50/100\n",
            "150/150 [==============================] - 1s 6ms/step - loss: 0.5770 - accuracy: 0.8031 - val_loss: 0.7362 - val_accuracy: 0.7420\n",
            "Epoch 51/100\n",
            "150/150 [==============================] - 1s 6ms/step - loss: 0.5747 - accuracy: 0.8054 - val_loss: 0.7313 - val_accuracy: 0.7527\n",
            "Epoch 52/100\n",
            "150/150 [==============================] - 1s 5ms/step - loss: 0.5622 - accuracy: 0.8039 - val_loss: 0.7654 - val_accuracy: 0.7367\n",
            "Epoch 53/100\n",
            "150/150 [==============================] - 1s 6ms/step - loss: 0.5571 - accuracy: 0.8076 - val_loss: 0.7576 - val_accuracy: 0.7433\n",
            "Epoch 54/100\n",
            "150/150 [==============================] - 1s 6ms/step - loss: 0.5395 - accuracy: 0.8134 - val_loss: 0.7471 - val_accuracy: 0.7467\n",
            "Epoch 55/100\n",
            "150/150 [==============================] - 1s 6ms/step - loss: 0.5237 - accuracy: 0.8194 - val_loss: 0.7205 - val_accuracy: 0.7533\n",
            "Epoch 56/100\n",
            "150/150 [==============================] - 1s 7ms/step - loss: 0.5216 - accuracy: 0.8221 - val_loss: 0.7459 - val_accuracy: 0.7507\n",
            "Epoch 57/100\n",
            "150/150 [==============================] - 1s 8ms/step - loss: 0.5024 - accuracy: 0.8338 - val_loss: 0.7212 - val_accuracy: 0.7613\n",
            "Epoch 58/100\n",
            "150/150 [==============================] - 1s 6ms/step - loss: 0.4979 - accuracy: 0.8351 - val_loss: 0.7646 - val_accuracy: 0.7420\n",
            "Epoch 59/100\n",
            "150/150 [==============================] - 1s 6ms/step - loss: 0.4938 - accuracy: 0.8331 - val_loss: 0.7772 - val_accuracy: 0.7400\n",
            "Epoch 60/100\n",
            "150/150 [==============================] - 1s 6ms/step - loss: 0.4885 - accuracy: 0.8304 - val_loss: 0.7413 - val_accuracy: 0.7507\n",
            "Epoch 61/100\n",
            "150/150 [==============================] - 1s 6ms/step - loss: 0.4784 - accuracy: 0.8321 - val_loss: 0.7426 - val_accuracy: 0.7573\n",
            "Epoch 62/100\n",
            "150/150 [==============================] - 1s 6ms/step - loss: 0.4938 - accuracy: 0.8317 - val_loss: 0.7496 - val_accuracy: 0.7507\n",
            "Epoch 63/100\n",
            "150/150 [==============================] - 1s 6ms/step - loss: 0.4709 - accuracy: 0.8339 - val_loss: 0.7366 - val_accuracy: 0.7540\n",
            "Epoch 64/100\n",
            "150/150 [==============================] - 1s 6ms/step - loss: 0.4674 - accuracy: 0.8413 - val_loss: 0.7309 - val_accuracy: 0.7540\n",
            "Epoch 65/100\n",
            "150/150 [==============================] - 1s 6ms/step - loss: 0.4418 - accuracy: 0.8464 - val_loss: 0.7423 - val_accuracy: 0.7553\n",
            "Epoch 66/100\n",
            "150/150 [==============================] - 1s 6ms/step - loss: 0.4343 - accuracy: 0.8481 - val_loss: 0.7480 - val_accuracy: 0.7487\n",
            "Epoch 67/100\n",
            "150/150 [==============================] - 1s 6ms/step - loss: 0.4492 - accuracy: 0.8479 - val_loss: 0.7452 - val_accuracy: 0.7527\n",
            "Epoch 68/100\n",
            "150/150 [==============================] - 1s 6ms/step - loss: 0.4309 - accuracy: 0.8513 - val_loss: 0.7437 - val_accuracy: 0.7613\n",
            "Epoch 69/100\n",
            "150/150 [==============================] - 1s 6ms/step - loss: 0.4257 - accuracy: 0.8536 - val_loss: 0.7559 - val_accuracy: 0.7513\n",
            "Epoch 70/100\n",
            "150/150 [==============================] - 1s 6ms/step - loss: 0.4094 - accuracy: 0.8593 - val_loss: 0.7398 - val_accuracy: 0.7527\n",
            "Epoch 71/100\n",
            "150/150 [==============================] - 1s 6ms/step - loss: 0.4109 - accuracy: 0.8581 - val_loss: 0.7379 - val_accuracy: 0.7647\n",
            "Epoch 72/100\n",
            "150/150 [==============================] - 1s 6ms/step - loss: 0.4146 - accuracy: 0.8586 - val_loss: 0.7280 - val_accuracy: 0.7527\n",
            "Epoch 73/100\n",
            "150/150 [==============================] - 1s 6ms/step - loss: 0.3951 - accuracy: 0.8616 - val_loss: 0.7506 - val_accuracy: 0.7560\n",
            "Epoch 74/100\n",
            "150/150 [==============================] - 1s 6ms/step - loss: 0.3845 - accuracy: 0.8729 - val_loss: 0.7791 - val_accuracy: 0.7473\n",
            "Epoch 75/100\n",
            "150/150 [==============================] - 1s 6ms/step - loss: 0.3874 - accuracy: 0.8621 - val_loss: 0.7782 - val_accuracy: 0.7513\n",
            "Epoch 76/100\n",
            "150/150 [==============================] - 1s 6ms/step - loss: 0.3668 - accuracy: 0.8748 - val_loss: 0.8120 - val_accuracy: 0.7367\n",
            "Epoch 77/100\n",
            "150/150 [==============================] - 1s 6ms/step - loss: 0.3730 - accuracy: 0.8719 - val_loss: 0.7768 - val_accuracy: 0.7580\n",
            "Epoch 78/100\n",
            "150/150 [==============================] - 1s 6ms/step - loss: 0.3654 - accuracy: 0.8756 - val_loss: 0.7771 - val_accuracy: 0.7567\n",
            "Epoch 79/100\n",
            "150/150 [==============================] - 1s 6ms/step - loss: 0.3408 - accuracy: 0.8834 - val_loss: 0.7740 - val_accuracy: 0.7513\n",
            "Epoch 80/100\n",
            "150/150 [==============================] - 1s 6ms/step - loss: 0.3471 - accuracy: 0.8883 - val_loss: 0.7926 - val_accuracy: 0.7500\n",
            "Epoch 81/100\n",
            "150/150 [==============================] - 1s 6ms/step - loss: 0.3290 - accuracy: 0.8848 - val_loss: 0.7778 - val_accuracy: 0.7540\n",
            "Epoch 82/100\n",
            "150/150 [==============================] - 1s 6ms/step - loss: 0.3352 - accuracy: 0.8808 - val_loss: 0.7605 - val_accuracy: 0.7607\n",
            "Epoch 83/100\n",
            "150/150 [==============================] - 1s 6ms/step - loss: 0.3177 - accuracy: 0.8918 - val_loss: 0.7889 - val_accuracy: 0.7547\n",
            "Epoch 84/100\n",
            "150/150 [==============================] - 1s 6ms/step - loss: 0.3389 - accuracy: 0.8868 - val_loss: 0.8372 - val_accuracy: 0.7447\n",
            "Epoch 85/100\n",
            "150/150 [==============================] - 1s 6ms/step - loss: 0.3171 - accuracy: 0.8904 - val_loss: 0.8066 - val_accuracy: 0.7493\n",
            "Epoch 86/100\n",
            "150/150 [==============================] - 1s 6ms/step - loss: 0.3298 - accuracy: 0.8908 - val_loss: 0.7710 - val_accuracy: 0.7620\n",
            "Epoch 87/100\n",
            "150/150 [==============================] - 1s 6ms/step - loss: 0.3159 - accuracy: 0.8904 - val_loss: 0.7988 - val_accuracy: 0.7533\n",
            "Epoch 88/100\n",
            "150/150 [==============================] - 1s 6ms/step - loss: 0.3126 - accuracy: 0.8994 - val_loss: 0.7940 - val_accuracy: 0.7547\n",
            "Epoch 89/100\n",
            "150/150 [==============================] - 1s 6ms/step - loss: 0.3132 - accuracy: 0.8926 - val_loss: 0.8796 - val_accuracy: 0.7340\n",
            "Epoch 90/100\n",
            "150/150 [==============================] - 1s 6ms/step - loss: 0.2963 - accuracy: 0.8963 - val_loss: 0.8555 - val_accuracy: 0.7507\n",
            "Epoch 91/100\n",
            "150/150 [==============================] - 1s 6ms/step - loss: 0.2960 - accuracy: 0.8996 - val_loss: 0.7899 - val_accuracy: 0.7607\n",
            "Epoch 92/100\n",
            "150/150 [==============================] - 1s 6ms/step - loss: 0.2881 - accuracy: 0.9035 - val_loss: 0.8288 - val_accuracy: 0.7553\n",
            "Epoch 93/100\n",
            "150/150 [==============================] - 1s 6ms/step - loss: 0.2826 - accuracy: 0.9011 - val_loss: 0.8421 - val_accuracy: 0.7453\n",
            "Epoch 94/100\n",
            "150/150 [==============================] - 1s 6ms/step - loss: 0.2912 - accuracy: 0.9003 - val_loss: 0.8104 - val_accuracy: 0.7493\n",
            "Epoch 95/100\n",
            "150/150 [==============================] - 1s 6ms/step - loss: 0.2661 - accuracy: 0.9070 - val_loss: 0.8111 - val_accuracy: 0.7640\n",
            "Epoch 96/100\n",
            "150/150 [==============================] - 1s 6ms/step - loss: 0.2766 - accuracy: 0.9010 - val_loss: 0.8608 - val_accuracy: 0.7473\n",
            "Epoch 97/100\n",
            "150/150 [==============================] - 1s 6ms/step - loss: 0.2694 - accuracy: 0.9093 - val_loss: 0.8466 - val_accuracy: 0.7587\n",
            "Epoch 98/100\n",
            "150/150 [==============================] - 1s 6ms/step - loss: 0.2662 - accuracy: 0.9080 - val_loss: 0.8328 - val_accuracy: 0.7547\n",
            "Epoch 99/100\n",
            "150/150 [==============================] - 1s 6ms/step - loss: 0.2656 - accuracy: 0.9108 - val_loss: 0.8268 - val_accuracy: 0.7573\n",
            "Epoch 100/100\n",
            "150/150 [==============================] - 1s 6ms/step - loss: 0.2639 - accuracy: 0.9093 - val_loss: 0.8436 - val_accuracy: 0.7587\n"
          ]
        }
      ]
    },
    {
      "cell_type": "code",
      "source": [
        "# plot accuracy and error as a function of the epochs\n",
        "\n",
        "def plot_history(history):\n",
        "\n",
        "    fig, axs = plt.subplots(2)\n",
        "\n",
        "    # create accuracy sublpot\n",
        "    axs[0].plot(history.history[\"accuracy\"], label=\"train accuracy\")\n",
        "    axs[0].plot(history.history[\"val_accuracy\"], label=\"test accuracy\")\n",
        "    axs[0].set_ylabel(\"Accuracy\")\n",
        "    axs[0].legend(loc=\"lower right\")\n",
        "    axs[0].set_title(\"Accuracy eval\")\n",
        "\n",
        "    # create error sublpot\n",
        "    axs[1].plot(history.history[\"loss\"], label=\"train error\")\n",
        "    axs[1].plot(history.history[\"val_loss\"], label=\"test error\")\n",
        "    axs[1].set_ylabel(\"Error\")\n",
        "    axs[1].set_xlabel(\"Epoch\")\n",
        "    axs[1].legend(loc=\"upper right\")\n",
        "    axs[1].set_title(\"Error eval\")\n",
        "    \n",
        "    plt.show()\n",
        "\n",
        "plot_history(history)"
      ],
      "metadata": {
        "colab": {
          "base_uri": "https://localhost:8080/",
          "height": 295
        },
        "id": "PU8hbPB7ogcu",
        "outputId": "632a8d32-0934-48d7-a52a-4692cfec48d2"
      },
      "execution_count": 10,
      "outputs": [
        {
          "output_type": "display_data",
          "data": {
            "text/plain": [
              "<Figure size 432x288 with 2 Axes>"
            ],
            "image/png": "[encoded data removed]"
          },
          "metadata": {
            "needs_background": "light"
          }
        }
      ]
    },
    {
      "cell_type": "code",
      "source": [
        "# evaluate model on Test Set\n",
        "test_loss, test_acc = model_cnn.evaluate(X_test, y_test, verbose=2)\n",
        "print('\\nTest accuracy:', test_acc)"
      ],
      "metadata": {
        "id": "Z335NKNF1TfO",
        "colab": {
          "base_uri": "https://localhost:8080/",
          "height": 0
        },
        "outputId": "72e620a7-fa59-427f-cbe6-3bcfcb6c3d98"
      },
      "execution_count": 11,
      "outputs": [
        {
          "output_type": "stream",
          "name": "stdout",
          "text": [
            "79/79 - 0s - loss: 0.8929 - accuracy: 0.7515 - 334ms/epoch - 4ms/step\n",
            "\n",
            "Test accuracy: 0.7515006065368652\n"
          ]
        }
      ]
    },
    {
      "cell_type": "code",
      "source": [
        "# Es hora de guardar nuestro modelo de Red CNN:\n",
        "model_cnn.save(\"Detector_Generos_13_CNN\")\n",
        "model_cnn.save(\"Detector_Generos_13_CNN.h5\")\n"
      ],
      "metadata": {
        "id": "9DEF6Sj_2kmw",
        "colab": {
          "base_uri": "https://localhost:8080/",
          "height": 0
        },
        "outputId": "5bedf3ba-ef92-414f-cf4a-e381dd837c01"
      },
      "execution_count": 12,
      "outputs": [
        {
          "output_type": "stream",
          "name": "stderr",
          "text": [
            "WARNING:absl:Found untraced functions such as _jit_compiled_convolution_op, _jit_compiled_convolution_op, _jit_compiled_convolution_op while saving (showing 3 of 3). These functions will not be directly callable after loading.\n"
          ]
        }
      ]
    },
    {
      "cell_type": "markdown",
      "source": [
        "## Test de Predicción:\n",
        "\n"
      ],
      "metadata": {
        "id": "y6XW55j9XSua"
      }
    },
    {
      "cell_type": "code",
      "source": [
        "# pick a sample to predict from the test set\n",
        "X_to_predict = X_test[200]\n",
        "y_to_predict = y_test[200]\n",
        "\n",
        "print(\"Real Genre:\", y_to_predict)\n",
        "\n",
        "# add a dimension to input data for sample - model.predict() expects a 4d array in this case\n",
        "X_to_predict = X_to_predict[np.newaxis, ...] # array shape (1, 130, 13, 1)\n",
        "X_to_predict.shape\n",
        "# perform prediction\n",
        "prediction = model_cnn.predict(X_to_predict)"
      ],
      "metadata": {
        "colab": {
          "base_uri": "https://localhost:8080/",
          "height": 0
        },
        "id": "kKyo53OQW-89",
        "outputId": "22757824-0e4e-4317-a312-ee6874c2f9eb"
      },
      "execution_count": 13,
      "outputs": [
        {
          "output_type": "stream",
          "name": "stdout",
          "text": [
            "Real Genre: 6\n",
            "1/1 [==============================] - 0s 180ms/step\n"
          ]
        }
      ]
    },
    {
      "cell_type": "code",
      "source": [
        "# get index with max value\n",
        "predicted_index = np.argmax(prediction, axis=1)\n",
        "\n",
        "print(\"Predicted Genre:\", int(predicted_index))"
      ],
      "metadata": {
        "colab": {
          "base_uri": "https://localhost:8080/",
          "height": 0
        },
        "id": "z18rlq7Ve0d_",
        "outputId": "8c4eeb59-c32b-4f5d-9c6f-a5d0a8dbd6c8"
      },
      "execution_count": 14,
      "outputs": [
        {
          "output_type": "stream",
          "name": "stdout",
          "text": [
            "Predicted Genre: 6\n"
          ]
        }
      ]
    },
    {
      "cell_type": "code",
      "source": [
        "# pick a sample to predict from the test set\n",
        "X_to_predict = X_test[220]\n",
        "y_to_predict = y_test[220]\n",
        "\n",
        "print(\"Real Genre:\", y_to_predict)\n",
        "\n",
        "X_to_predict = X_to_predict[np.newaxis, ...]\n",
        "\n",
        "prediction = model_cnn.predict(X_to_predict)\n",
        "\n",
        "# get index with max value\n",
        "predicted_index = np.argmax(prediction, axis=1)\n",
        "\n",
        "print(\"Predicted Genre:\", int(predicted_index))"
      ],
      "metadata": {
        "colab": {
          "base_uri": "https://localhost:8080/",
          "height": 0
        },
        "id": "xSYSyNJcfJwU",
        "outputId": "04e13a6c-f698-4cb4-8912-97433beed44a"
      },
      "execution_count": 15,
      "outputs": [
        {
          "output_type": "stream",
          "name": "stdout",
          "text": [
            "Real Genre: 7\n",
            "1/1 [==============================] - 0s 15ms/step\n",
            "Predicted Genre: 6\n"
          ]
        }
      ]
    },
    {
      "cell_type": "code",
      "source": [
        "# Opening JSON file\n",
        "f = open(\"/content/drive/My Drive/PAD/Data01/data_10.json\")\n",
        "  \n",
        "# returns JSON object as \n",
        "# a dictionary\n",
        "data = json.load(f)\n",
        "  \n",
        "# Iterating through the json\n",
        "# list\n",
        "for i in data['mapping']:\n",
        "    print(i)\n",
        "  \n",
        "# Closing file\n",
        "f.close()"
      ],
      "metadata": {
        "colab": {
          "base_uri": "https://localhost:8080/",
          "height": 0
        },
        "id": "2GeeHMI0fbH4",
        "outputId": "08e1481b-1245-4d0f-e5ff-b480d15329fa"
      },
      "execution_count": 16,
      "outputs": [
        {
          "output_type": "stream",
          "name": "stdout",
          "text": [
            "rock\n",
            "reggae\n",
            "pop\n",
            "metal\n",
            "jazz\n",
            "hiphop\n",
            "disco\n",
            "country\n",
            "classical\n",
            "blues\n"
          ]
        }
      ]
    },
    {
      "cell_type": "code",
      "source": [
        "# Hacemos una preba con 10 predicciones para testear la precicion de nuestro modelo:\n",
        "for n in range(10):\n",
        "\n",
        "  i = random.randint(0,len(X_test))\n",
        "  # pick a sample to predict from the test set\n",
        "  X_to_predict = X_test[i]\n",
        "  y_to_predict = y_test[i]\n",
        "\n",
        "  print(\"\\nReal Genre:\", y_to_predict)\n",
        "\n",
        "  X_to_predict = X_to_predict[np.newaxis, ...]\n",
        "\n",
        "  prediction = model_cnn.predict(X_to_predict)\n",
        "\n",
        "  # get index with max value\n",
        "  predicted_index = np.argmax(prediction, axis=1)\n",
        "\n",
        "  print(\"Predicted Genre:\", int(predicted_index))\n"
      ],
      "metadata": {
        "colab": {
          "base_uri": "https://localhost:8080/",
          "height": 0
        },
        "id": "JbDXaanvfyXL",
        "outputId": "4738ffc6-4e85-4b38-fae3-f2cd6d01e60f"
      },
      "execution_count": 17,
      "outputs": [
        {
          "output_type": "stream",
          "name": "stdout",
          "text": [
            "\n",
            "Real Genre: 2\n",
            "1/1 [==============================] - 0s 19ms/step\n",
            "Predicted Genre: 2\n",
            "\n",
            "Real Genre: 8\n",
            "1/1 [==============================] - 0s 17ms/step\n",
            "Predicted Genre: 8\n",
            "\n",
            "Real Genre: 8\n",
            "1/1 [==============================] - 0s 15ms/step\n",
            "Predicted Genre: 8\n",
            "\n",
            "Real Genre: 7\n",
            "1/1 [==============================] - 0s 15ms/step\n",
            "Predicted Genre: 7\n",
            "\n",
            "Real Genre: 4\n",
            "1/1 [==============================] - 0s 16ms/step\n",
            "Predicted Genre: 4\n",
            "\n",
            "Real Genre: 1\n",
            "1/1 [==============================] - 0s 18ms/step\n",
            "Predicted Genre: 5\n",
            "\n",
            "Real Genre: 4\n",
            "1/1 [==============================] - 0s 16ms/step\n",
            "Predicted Genre: 9\n",
            "\n",
            "Real Genre: 6\n",
            "1/1 [==============================] - 0s 16ms/step\n",
            "Predicted Genre: 6\n",
            "\n",
            "Real Genre: 1\n",
            "1/1 [==============================] - 0s 26ms/step\n",
            "Predicted Genre: 1\n",
            "\n",
            "Real Genre: 3\n",
            "1/1 [==============================] - 0s 15ms/step\n",
            "Predicted Genre: 3\n"
          ]
        }
      ]
    },
    {
      "cell_type": "code",
      "source": [
        "# Creamos el diccionario de para nuetros 10 generos musicales, y de esta manera saber que genero reperesenta cada numero.\n",
        "genre_dict = {0:\"Rock\",1:\"Reggae\",2:\"Pop\",3:\"Metal\",4:\"Jazz\",5:\"Hiphop\",6:\"Disco\",7:\"Country\",8:\"Classical\",9:\"Blues\"}"
      ],
      "metadata": {
        "id": "YSQJTOvdjlDU"
      },
      "execution_count": 18,
      "outputs": []
    },
    {
      "cell_type": "code",
      "source": [
        "# Audio files pre-processing\n",
        "def procesar_cancion(audio_file, track_duration):\n",
        "\n",
        "  SAMPLE_RATE = 22050\n",
        "  NUM_MFCC = 13\n",
        "  N_FTT=2048\n",
        "  HOP_LENGTH=512\n",
        "  TRACK_DURATION = track_duration # measured in seconds\n",
        "  SAMPLES_PER_TRACK = SAMPLE_RATE * TRACK_DURATION\n",
        "  NUM_SEGMENTS = 10\n",
        "\n",
        "  samples_per_segment = int(SAMPLES_PER_TRACK / NUM_SEGMENTS)\n",
        "  num_mfcc_vectors_per_segment = math.ceil(samples_per_segment / HOP_LENGTH)\n",
        "\n",
        "  signal, sample_rate = librosa.load(audio_file, sr=SAMPLE_RATE)\n",
        "  \n",
        "  for d in range(10):\n",
        "\n",
        "    # calculate start and finish sample for current segment\n",
        "    start = samples_per_segment * d\n",
        "    finish = start + samples_per_segment\n",
        "\n",
        "    # extract mfcc\n",
        "    mfcc = librosa.feature.mfcc(signal[start:finish], sample_rate, n_mfcc=NUM_MFCC, n_fft=N_FTT, hop_length=HOP_LENGTH)\n",
        "    mfcc = mfcc.T\n",
        "\n",
        "    return mfcc"
      ],
      "metadata": {
        "id": "bDVVhlfs30ng"
      },
      "execution_count": 19,
      "outputs": []
    },
    {
      "cell_type": "code",
      "source": [
        "nueva_cancion_pred_01 = procesar_cancion(\"/content/drive/My Drive/PAD/07.wav\", 30)"
      ],
      "metadata": {
        "id": "x-UnZfMp4f1Y"
      },
      "execution_count": 62,
      "outputs": []
    },
    {
      "cell_type": "code",
      "source": [
        "X_to_predict_01 = nueva_cancion_pred_01[np.newaxis, ..., np.newaxis]\n",
        "X_to_predict_01.shape"
      ],
      "metadata": {
        "id": "Res7pf4Sshvz",
        "colab": {
          "base_uri": "https://localhost:8080/",
          "height": 0
        },
        "outputId": "8f8a1f66-f50b-45b6-a138-c386cf8ad715"
      },
      "execution_count": 63,
      "outputs": [
        {
          "output_type": "execute_result",
          "data": {
            "text/plain": [
              "(1, 130, 13, 1)"
            ]
          },
          "metadata": {},
          "execution_count": 63
        }
      ]
    },
    {
      "cell_type": "code",
      "source": [
        "type(nueva_cancion_pred_01)\n",
        "nueva_cancion_pred_01.shape\n"
      ],
      "metadata": {
        "id": "1lCxCtqR55H5",
        "colab": {
          "base_uri": "https://localhost:8080/",
          "height": 0
        },
        "outputId": "7f37ef91-1456-4781-c64f-b0e031b6ec54"
      },
      "execution_count": 64,
      "outputs": [
        {
          "output_type": "execute_result",
          "data": {
            "text/plain": [
              "(130, 13)"
            ]
          },
          "metadata": {},
          "execution_count": 64
        }
      ]
    },
    {
      "cell_type": "code",
      "source": [
        "prediction = model_cnn.predict(X_to_predict_01)\n",
        "\n",
        "# get index with max value\n",
        "predicted_index = np.argmax(prediction, axis=1)\n",
        "\n",
        "print(\"El género de su cación es:\", genre_dict[int(predicted_index)])"
      ],
      "metadata": {
        "id": "1wOp6fJU6ZkS",
        "colab": {
          "base_uri": "https://localhost:8080/",
          "height": 0
        },
        "outputId": "ccec571f-16b7-485e-9225-48319d70116e"
      },
      "execution_count": 65,
      "outputs": [
        {
          "output_type": "stream",
          "name": "stdout",
          "text": [
            "1/1 [==============================] - 0s 19ms/step\n",
            "El género de su cación es: Rock\n"
          ]
        }
      ]
    },
    {
      "cell_type": "code",
      "source": [
        "nueva_cancion_pred02 = procesar_cancion(\"/content/drive/My Drive/PAD/Chopin.wav\",30)"
      ],
      "metadata": {
        "id": "GpdVm6PO6op4"
      },
      "execution_count": 24,
      "outputs": []
    },
    {
      "cell_type": "code",
      "source": [
        "type(nueva_cancion_pred02)\n",
        "nueva_cancion_pred02.shape"
      ],
      "metadata": {
        "id": "vgwOMsKswIhV",
        "colab": {
          "base_uri": "https://localhost:8080/",
          "height": 0
        },
        "outputId": "46ac1b29-f172-45fa-8e94-6dacdcb60e98"
      },
      "execution_count": 25,
      "outputs": [
        {
          "output_type": "execute_result",
          "data": {
            "text/plain": [
              "(130, 13)"
            ]
          },
          "metadata": {},
          "execution_count": 25
        }
      ]
    },
    {
      "cell_type": "code",
      "source": [
        "X_predict02 = nueva_cancion_pred02[np.newaxis, ..., np.newaxis]\n",
        "X_predict02.shape\n",
        "##\n",
        "prediction = model_cnn.predict(X_predict02)\n",
        "\n",
        "# get index with max value\n",
        "predicted_index = np.argmax(prediction, axis=1)\n",
        "\n",
        "print(\"El género de su cación es:\", genre_dict [int(predicted_index)])\n"
      ],
      "metadata": {
        "id": "89sonFN7vE9S",
        "colab": {
          "base_uri": "https://localhost:8080/",
          "height": 0
        },
        "outputId": "22f9268b-dc71-4ccf-f5da-01ec8a115a7c"
      },
      "execution_count": 26,
      "outputs": [
        {
          "output_type": "stream",
          "name": "stdout",
          "text": [
            "1/1 [==============================] - 0s 24ms/step\n",
            "El género de su cación es: Classical\n"
          ]
        }
      ]
    },
    {
      "cell_type": "code",
      "source": [],
      "metadata": {
        "id": "GOtiW7OtyK2z"
      },
      "execution_count": 26,
      "outputs": []
    }
  ]
}